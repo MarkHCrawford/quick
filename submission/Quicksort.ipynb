{
  "nbformat": 4,
  "nbformat_minor": 0,
  "metadata": {
    "colab": {
      "provenance": []
    },
    "kernelspec": {
      "name": "python3",
      "display_name": "Python 3"
    },
    "language_info": {
      "name": "python"
    }
  },
  "cells": [
    {
      "cell_type": "markdown",
      "source": [
        "# Quick Sort in Python\n",
        "Mark Crawford  \n",
        "Professor Lucci  \n",
        "Algorithms  \n",
        "City University of New York  \n",
        "Fall 2024  \n",
        "\n",
        "\n",
        "\n",
        "### **Brief History**\n",
        "Quicksort is a **divide-and-conquer** algorithm. Divide-and-conquer algorithms are algorithms that are recursively broken down into subproblems to make solving them easier.  \n",
        "\n",
        "Quicksort, also known as partition-exchange sort, was published by Tony Hoare in 1961, after being developed in 1959.\n",
        "  \n",
        "\n",
        "### **Time Complexity**  \n",
        "Quicksort is faster than merge and heap sort on randomized-data, meaning it has an average of time-complexity **O(nlogn)**. However, in the worst case, quick sort has a time-complexity of **O(n^2)**.  \n",
        "\n",
        "## **Some notes:**  \n",
        "Used here is the *Lomuto* partition scheme, as opposed to Hoare's original version. This scheme is easier to implement and uses the last index as the partition element. One issue that arises from this implementation is that, for an already sorted list, the time-complexity degrades to **O(n^2)**."
      ],
      "metadata": {
        "id": "MYcSyo8GLeO8"
      }
    },
    {
      "cell_type": "code",
      "source": [
        "# Used for timing performance of function\n",
        "import timeit\n",
        "\n",
        "# Numpy just for quick list initialization\n",
        "import numpy as np\n"
      ],
      "metadata": {
        "id": "RpfylN7AODf9"
      },
      "execution_count": 3,
      "outputs": []
    },
    {
      "cell_type": "code",
      "source": [
        "# First component of the quicksort algorithm is a function for partitioning array\n",
        "def partition(int_list, low, high):\n",
        "  # Here we select the last element for the pivot\n",
        "  pivot = int_list[high]\n",
        "\n",
        "  # Single pointer\n",
        "  i = low - 1\n",
        "\n",
        "  # Loop\n",
        "  for j in range(low, high):\n",
        "    # Compare current element with value of pivot\n",
        "    if int_list[j] <= pivot:\n",
        "      # Increment i\n",
        "      i += 1\n",
        "      # Swap i and j\n",
        "      int_list[i], int_list[j] = int_list[j], int_list[i]\n",
        "\n",
        "  # i now points to the greater element--swap with pivot\n",
        "  int_list[i+1], int_list[high] = int_list[high], int_list[i+1]\n",
        "\n",
        "  # Now return position of partition\n",
        "  return i + 1\n",
        "\n",
        "\n",
        "# Now the quick-sort function that handles recursive calls and base case\n",
        "def quick_sort(int_list, low, high):\n",
        "  # Handling the base case:\n",
        "  if low < high:\n",
        "    partition_index = partition(int_list, low, high)\n",
        "\n",
        "    # Divide and conquer (recursive calls to left and right of pivot)\n",
        "    quick_sort(int_list, partition_index + 1, high)\n",
        "    quick_sort(int_list, low, partition_index - 1)\n"
      ],
      "metadata": {
        "id": "559yRtPuONhJ"
      },
      "execution_count": 4,
      "outputs": []
    },
    {
      "cell_type": "code",
      "source": [
        "# Let's test it\n",
        "int_list_ten = np.linspace(10, 1, 10).astype(int)\n",
        "print(int_list_ten)\n",
        "print(\"\\n\\n\")\n",
        "quick_sort(int_list_ten, 0, len(int_list_ten) - 1)\n",
        "print(int_list_ten)"
      ],
      "metadata": {
        "colab": {
          "base_uri": "https://localhost:8080/"
        },
        "id": "b8--eLUdQX_E",
        "outputId": "4736dd3a-ee4b-4f7a-f78d-138c220094e5"
      },
      "execution_count": 15,
      "outputs": [
        {
          "output_type": "stream",
          "name": "stdout",
          "text": [
            "[10  9  8  7  6  5  4  3  2  1]\n",
            "\n",
            "\n",
            "\n",
            "[ 1  2  3  4  5  6  7  8  9 10]\n"
          ]
        }
      ]
    },
    {
      "cell_type": "code",
      "source": [
        "# Let's time it with a list of thousand elements\n",
        "int_list_thousand = np.linspace(1000, 1, 1000).astype(int)\n",
        "timeit.timeit(lambda: quick_sort(int_list_thousand, 0, len(int_list_thousand) - 1), number = 1)\n"
      ],
      "metadata": {
        "colab": {
          "base_uri": "https://localhost:8080/"
        },
        "id": "QdxDf7mGRQff",
        "outputId": "7665ed9c-7864-4547-dc4f-b7d0fb610d3a"
      },
      "execution_count": 16,
      "outputs": [
        {
          "output_type": "execute_result",
          "data": {
            "text/plain": [
              "0.26439766199996484"
            ]
          },
          "metadata": {},
          "execution_count": 16
        }
      ]
    },
    {
      "cell_type": "code",
      "source": [
        "# Let's check that time with a list of already sorted elements\n",
        "int_list_sorted_thousand = np.linspace(1, 1000, 1000).astype(int)\n",
        "timeit.timeit(lambda: quick_sort(int_list_sorted_thousand, 0, len(int_list_sorted_thousand) - 1), number = 1)"
      ],
      "metadata": {
        "colab": {
          "base_uri": "https://localhost:8080/"
        },
        "id": "w0JybQwrSPOn",
        "outputId": "1d89d3b3-e67b-4c40-efd9-9960f4da18f3"
      },
      "execution_count": 17,
      "outputs": [
        {
          "output_type": "execute_result",
          "data": {
            "text/plain": [
              "0.4655766020000556"
            ]
          },
          "metadata": {},
          "execution_count": 17
        }
      ]
    },
    {
      "cell_type": "code",
      "source": [
        "# You should be able to see that the number is almost twice that of the non-sorted list.\n",
        "# This is a result of choosing the last element as the pivot -- causing the time-complexity to degrade to O(n^2) for sorted lists."
      ],
      "metadata": {
        "id": "sZupykcvSZIe"
      },
      "execution_count": null,
      "outputs": []
    }
  ]
}