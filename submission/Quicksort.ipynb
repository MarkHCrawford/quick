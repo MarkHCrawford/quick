{
  "nbformat": 4,
  "nbformat_minor": 0,
  "metadata": {
    "colab": {
      "provenance": []
    },
    "kernelspec": {
      "name": "python3",
      "display_name": "Python 3"
    },
    "language_info": {
      "name": "python"
    }
  },
  "cells": [
    {
      "cell_type": "markdown",
      "source": [
        "# Quick Sort in Python\n",
        "Mark Crawford  \n",
        "Professor Lucci  \n",
        "Algorithms  \n",
        "City University of New York  \n",
        "Fall 2024  \n",
        "\n",
        "\n",
        "\n",
        "### **Brief History**\n",
        "Quicksort is a **divide-and-conquer** algorithm. Divide-and-conquer algorithms are algorithms that are recursively broken down into subproblems to make solving them easier.  \n",
        "\n",
        "Quicksort, also known as partition-exchange sort, was published by Tony Hoare in 1961, after being developed in 1959.\n",
        "  \n",
        "\n",
        "### **Time Complexity**  \n",
        "Quicksort is faster than merge and heap sort on randomized-data, meaning it has an average of time-complexity **O(nlogn)**. However, in the worst case, quick sort has a time-complexity of **O(n^2)**.  \n",
        "\n",
        "## **Some notes:**  \n",
        "Used here is the *Lomuto* partition scheme, as opposed to Hoare's original version. This scheme is easier to implement and uses the last index as the partition element. One issue that arises from this implementation is that, for an already sorted list, the time-complexity degrades to **O(n^2)**."
      ],
      "metadata": {
        "id": "MYcSyo8GLeO8"
      }
    },
    {
      "cell_type": "code",
      "source": [
        "# Used for timing performance of function\n",
        "import timeit\n",
        "\n",
        "# Numpy just for quick list initialization\n",
        "import numpy as np\n"
      ],
      "metadata": {
        "id": "RpfylN7AODf9"
      },
      "execution_count": 7,
      "outputs": []
    },
    {
      "cell_type": "code",
      "source": [
        "# First component of the quicksort algorithm is a function for partitioning array\n",
        "def partition(int_list, low, high):\n",
        "  # Here we select the last element for the pivot\n",
        "  pivot = int_list[high]\n",
        "\n",
        "  # Single pointer\n",
        "  i = low - 1\n",
        "\n",
        "  # Loop\n",
        "  for j in range(low, high):\n",
        "    # Compare current element with value of pivot\n",
        "    if int_list[j] <= pivot:\n",
        "      # Increment i\n",
        "      i += 1\n",
        "      # Swap i and j\n",
        "      int_list[i], int_list[j] = int_list[j], int_list[i]\n",
        "\n",
        "  # i now points to the greater element--swap with pivot\n",
        "  int_list[i+1], int_list[high] = int_list[high], int_list[i+1]\n",
        "\n",
        "  # Now return position of partition\n",
        "  return i + 1\n",
        "\n",
        "\n",
        "# Now the quick-sort function that handles recursive calls and base case\n",
        "def quick_sort(int_list, low, high):\n",
        "  # Handling the base case:\n",
        "  if low < high:\n",
        "    partition_index = partition(int_list, low, high)\n",
        "\n",
        "    # Divide and conquer (recursive calls to left and right of pivot)\n",
        "    quick_sort(int_list, partition_index + 1, high)\n",
        "    quick_sort(int_list, low, partition_index - 1)\n"
      ],
      "metadata": {
        "id": "559yRtPuONhJ"
      },
      "execution_count": 8,
      "outputs": []
    },
    {
      "cell_type": "code",
      "source": [
        "# Let's test it\n",
        "int_list_ten = np.linspace(10, 1, 10).astype(int)\n",
        "print(int_list_ten)\n",
        "print(\"\\n\\n\")\n",
        "quick_sort(int_list_ten, 0, len(int_list_ten) - 1)\n",
        "print(int_list_ten)"
      ],
      "metadata": {
        "colab": {
          "base_uri": "https://localhost:8080/"
        },
        "id": "b8--eLUdQX_E",
        "outputId": "3391a4c3-c568-42b4-a163-1546d7be30c9"
      },
      "execution_count": 9,
      "outputs": [
        {
          "output_type": "stream",
          "name": "stdout",
          "text": [
            "[10  9  8  7  6  5  4  3  2  1]\n",
            "\n",
            "\n",
            "\n",
            "[ 1  2  3  4  5  6  7  8  9 10]\n"
          ]
        }
      ]
    },
    {
      "cell_type": "code",
      "source": [
        "int_list_500 = np.linspace(500, 1, 500).astype(int)\n",
        "quick_sort(int_list_500, 0, len(int_list_500) - 1)\n",
        "print(int_list_500)"
      ],
      "metadata": {
        "id": "VPVtYv8SPoUQ",
        "outputId": "1955c620-cf1c-4297-f6d3-2ea3653d71b1",
        "colab": {
          "base_uri": "https://localhost:8080/"
        }
      },
      "execution_count": 15,
      "outputs": [
        {
          "output_type": "stream",
          "name": "stdout",
          "text": [
            "[  1   2   3   4   5   6   7   8   9  10  11  12  13  14  15  16  17  18\n",
            "  19  20  21  22  23  24  25  26  27  28  29  30  31  32  33  34  35  36\n",
            "  37  38  39  40  41  42  43  44  45  46  47  48  49  50  51  52  53  54\n",
            "  55  56  57  58  59  60  61  62  63  64  65  66  67  68  69  70  71  72\n",
            "  73  74  75  76  77  78  79  80  81  82  83  84  85  86  87  88  89  90\n",
            "  91  92  93  94  95  96  97  98  99 100 101 102 103 104 105 106 107 108\n",
            " 109 110 111 112 113 114 115 116 117 118 119 120 121 122 123 124 125 126\n",
            " 127 128 129 130 131 132 133 134 135 136 137 138 139 140 141 142 143 144\n",
            " 145 146 147 148 149 150 151 152 153 154 155 156 157 158 159 160 161 162\n",
            " 163 164 165 166 167 168 169 170 171 172 173 174 175 176 177 178 179 180\n",
            " 181 182 183 184 185 186 187 188 189 190 191 192 193 194 195 196 197 198\n",
            " 199 200 201 202 203 204 205 206 207 208 209 210 211 212 213 214 215 216\n",
            " 217 218 219 220 221 222 223 224 225 226 227 228 229 230 231 232 233 234\n",
            " 235 236 237 238 239 240 241 242 243 244 245 246 247 248 249 250 251 252\n",
            " 253 254 255 256 257 258 259 260 261 262 263 264 265 266 267 268 269 270\n",
            " 271 272 273 274 275 276 277 278 279 280 281 282 283 284 285 286 287 288\n",
            " 289 290 291 292 293 294 295 296 297 298 299 300 301 302 303 304 305 306\n",
            " 307 308 309 310 311 312 313 314 315 316 317 318 319 320 321 322 323 324\n",
            " 325 326 327 328 329 330 331 332 333 334 335 336 337 338 339 340 341 342\n",
            " 343 344 345 346 347 348 349 350 351 352 353 354 355 356 357 358 359 360\n",
            " 361 362 363 364 365 366 367 368 369 370 371 372 373 374 375 376 377 378\n",
            " 379 380 381 382 383 384 385 386 387 388 389 390 391 392 393 394 395 396\n",
            " 397 398 399 400 401 402 403 404 405 406 407 408 409 410 411 412 413 414\n",
            " 415 416 417 418 419 420 421 422 423 424 425 426 427 428 429 430 431 432\n",
            " 433 434 435 436 437 438 439 440 441 442 443 444 445 446 447 448 449 450\n",
            " 451 452 453 454 455 456 457 458 459 460 461 462 463 464 465 466 467 468\n",
            " 469 470 471 472 473 474 475 476 477 478 479 480 481 482 483 484 485 486\n",
            " 487 488 489 490 491 492 493 494 495 496 497 498 499 500]\n"
          ]
        }
      ]
    },
    {
      "cell_type": "code",
      "source": [
        "# Let's time it with a list of thousand elements\n",
        "int_list_500 = np.linspace(500, 1, 500).astype(int)\n",
        "timeit.timeit(lambda: quick_sort(int_list_500, 0, len(int_list_500) - 1), number = 100)\n"
      ],
      "metadata": {
        "colab": {
          "base_uri": "https://localhost:8080/"
        },
        "id": "QdxDf7mGRQff",
        "outputId": "055781c2-d3cd-447d-f5d6-7c3a06ee6012"
      },
      "execution_count": 31,
      "outputs": [
        {
          "output_type": "execute_result",
          "data": {
            "text/plain": [
              "7.918977971000004"
            ]
          },
          "metadata": {},
          "execution_count": 31
        }
      ]
    },
    {
      "cell_type": "code",
      "source": [
        "# Let's check that time with a list of already sorted elements\n",
        "int_list_sorted_500 = np.linspace(1, 500, 500).astype(int)\n",
        "timeit.timeit(lambda: quick_sort(int_list_sorted_500, 0, len(int_list_sorted_500) - 1), number = 100)"
      ],
      "metadata": {
        "colab": {
          "base_uri": "https://localhost:8080/"
        },
        "id": "w0JybQwrSPOn",
        "outputId": "21254d06-b75f-4421-b274-38accc9b179a"
      },
      "execution_count": 32,
      "outputs": [
        {
          "output_type": "execute_result",
          "data": {
            "text/plain": [
              "8.502230816000065"
            ]
          },
          "metadata": {},
          "execution_count": 32
        }
      ]
    },
    {
      "cell_type": "code",
      "source": [],
      "metadata": {
        "id": "sZupykcvSZIe"
      },
      "execution_count": 32,
      "outputs": []
    }
  ]
}